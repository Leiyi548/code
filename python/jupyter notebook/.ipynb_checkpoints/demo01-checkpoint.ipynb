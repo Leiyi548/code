{
 "cells": [
  {
   "cell_type": "code",
   "execution_count": 13,
   "id": "ee02c5cf",
   "metadata": {},
   "outputs": [
    {
     "name": "stdout",
     "output_type": "stream",
     "text": [
      "jupyter ……\n"
     ]
    }
   ],
   "source": [
    "print(\"jupyter ……\")"
   ]
  },
  {
   "cell_type": "code",
   "execution_count": 10,
   "id": "a47199aa",
   "metadata": {},
   "outputs": [
    {
     "name": "stdout",
     "output_type": "stream",
     "text": [
      "hello,world\n"
     ]
    }
   ],
   "source": [
    "print(\"hello,world\")"
   ]
  },
  {
   "cell_type": "code",
   "execution_count": 11,
   "id": "3ba988df",
   "metadata": {},
   "outputs": [
    {
     "name": "stdout",
     "output_type": "stream",
     "text": [
      "1\n",
      "2\n",
      "3\n",
      "4\n",
      "5\n",
      "6\n",
      "7\n",
      "8\n",
      "9\n",
      "10\n"
     ]
    }
   ],
   "source": [
    "# print 1-10 number\n",
    "for i in range(1,11):\n",
    "    print(i)"
   ]
  },
  {
   "cell_type": "markdown",
   "id": "c4c340e4",
   "metadata": {},
   "source": [
    "\n",
    "# markdown header\n",
    "support markdown format \n",
    "\n",
    "**bold text**\n",
    "*italic font*\n",
    "***bold italic font***\n",
    "- list\n",
    "- list\n",
    "- list\n"
   ]
  }
 ],
 "metadata": {
  "kernelspec": {
   "display_name": "Python 3 (ipykernel)",
   "language": "python",
   "name": "python3"
  },
  "language_info": {
   "codemirror_mode": {
    "name": "ipython",
    "version": 3
   },
   "file_extension": ".py",
   "mimetype": "text/x-python",
   "name": "python",
   "nbconvert_exporter": "python",
   "pygments_lexer": "ipython3",
   "version": "3.10.8"
  },
  "vscode": {
   "interpreter": {
    "hash": "640e6dd776b08ceb3794f38b7ae48e6b3233542c153a43a7a32866eee614bb8c"
   }
  }
 },
 "nbformat": 4,
 "nbformat_minor": 5
}
